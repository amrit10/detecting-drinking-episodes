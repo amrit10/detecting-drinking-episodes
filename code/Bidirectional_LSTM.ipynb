{
  "cells": [
    {
      "cell_type": "code",
      "execution_count": 1,
      "metadata": {
        "colab": {
          "base_uri": "https://localhost:8080/"
        },
        "id": "eSUa7kMe8wjw",
        "outputId": "655ddf7e-7226-4f05-eee4-67ae8e23d370"
      },
      "outputs": [
        {
          "name": "stdout",
          "output_type": "stream",
          "text": [
            "Requirement already satisfied: scikit-learn in /Users/sarah_prakriti_peters/miniconda3/envs/DL/lib/python3.10/site-packages (1.2.2)\n",
            "Requirement already satisfied: numpy>=1.17.3 in /Users/sarah_prakriti_peters/miniconda3/envs/DL/lib/python3.10/site-packages (from scikit-learn) (1.24.3)\n",
            "Requirement already satisfied: scipy>=1.3.2 in /Users/sarah_prakriti_peters/miniconda3/envs/DL/lib/python3.10/site-packages (from scikit-learn) (1.10.1)\n",
            "Requirement already satisfied: joblib>=1.1.1 in /Users/sarah_prakriti_peters/miniconda3/envs/DL/lib/python3.10/site-packages (from scikit-learn) (1.2.0)\n",
            "Requirement already satisfied: threadpoolctl>=2.0.0 in /Users/sarah_prakriti_peters/miniconda3/envs/DL/lib/python3.10/site-packages (from scikit-learn) (3.1.0)\n",
            "Note: you may need to restart the kernel to use updated packages.\n"
          ]
        }
      ],
      "source": [
        "%pip install scikit-learn"
      ]
    },
    {
      "cell_type": "code",
      "execution_count": 2,
      "metadata": {
        "id": "4ZYIznsl_M81"
      },
      "outputs": [],
      "source": [
        "import numpy as np\n",
        "from sklearn.preprocessing import RobustScaler, OneHotEncoder\n",
        "import pickle as pk\n",
        "import pandas as pd\n",
        "from tensorflow import keras\n",
        "import scipy\n",
        "np.random.seed(0)"
      ]
    },
    {
      "cell_type": "code",
      "execution_count": 4,
      "metadata": {
        "colab": {
          "base_uri": "https://localhost:8080/"
        },
        "id": "FalYIEyx_Pa6",
        "outputId": "1e8af98e-7e16-4f52-b318-75a8b37ae817"
      },
      "outputs": [
        {
          "data": {
            "text/plain": [
              "array(['DC6359'], dtype=object)"
            ]
          },
          "execution_count": 4,
          "metadata": {},
          "output_type": "execute_result"
        }
      ],
      "source": [
        "with open(\"../data/pickles/data_slidingwindowFalse10_samplingrate20_df.p\", 'rb') as f:\n",
        "  data = pk.load(f)\n",
        "dataframe = data['data']\n",
        "# test_dataframe = dataframe[dataframe['pid'] == \"BK7610\"]\n",
        "test_dataframe = dataframe[dataframe['pid'] == 'BU4707']\n",
        "dataframe = dataframe[(dataframe['pid'] != 'BK7610') & (dataframe['pid']!='BU4707')]\n",
        "\n",
        "\n",
        "dataframe['pid'].unique()"
      ]
    },
    {
      "cell_type": "code",
      "execution_count": 5,
      "metadata": {
        "id": "BR9_P6g3abHy"
      },
      "outputs": [],
      "source": [
        "# test_dataframe['tac'].unique()"
      ]
    },
    {
      "cell_type": "code",
      "execution_count": 6,
      "metadata": {
        "id": "U72Y1rrwHBiE"
      },
      "outputs": [],
      "source": [
        "def create_dataset(X, y, time_steps=1, step=1):\n",
        "    Xs, ys = [], []\n",
        "    for i in range(0, len(X) - time_steps, step):\n",
        "        v = X.iloc[i:(i + time_steps)].values\n",
        "        labels = y.iloc[i: i + time_steps]\n",
        "        Xs.append(v)\n",
        "        ys.append(scipy.stats.mode(labels)[0][0])\n",
        "    return np.array(Xs), np.array(ys).reshape(-1, 1)\n",
        "\n"
      ]
    },
    {
      "cell_type": "code",
      "execution_count": 7,
      "metadata": {
        "id": "9kQGBVhhH5Zd"
      },
      "outputs": [],
      "source": [
        "\n",
        "# scale_columns = ['x', 'y', 'z']\n",
        "# scaler = RobustScaler()\n",
        "# scaler = scaler.fit(dataframe[scale_columns])\n",
        "# dataframe.loc[:, scale_columns] = scaler.transform(\n",
        "#   dataframe[scale_columns].to_numpy()\n",
        "# )"
      ]
    },
    {
      "cell_type": "code",
      "execution_count": 8,
      "metadata": {
        "colab": {
          "base_uri": "https://localhost:8080/"
        },
        "id": "MCCN6RCMHdHA",
        "outputId": "f189bdea-6c51-4ba7-c118-d4d2412536f0"
      },
      "outputs": [
        {
          "name": "stderr",
          "output_type": "stream",
          "text": [
            "/var/folders/7y/kyw1v_8j0g1ckfb3g6x93q1m0000gn/T/ipykernel_21149/721208264.py:7: FutureWarning: Unlike other reduction functions (e.g. `skew`, `kurtosis`), the default behavior of `mode` typically preserves the axis it acts along. In SciPy 1.11.0, this behavior will change: the default value of `keepdims` will become False, the `axis` over which the statistic is taken will be eliminated, and the value None will no longer be accepted. Set `keepdims` to True or False to avoid this warning.\n",
            "  ys.append(scipy.stats.mode(labels)[0][0])\n",
            "/var/folders/7y/kyw1v_8j0g1ckfb3g6x93q1m0000gn/T/ipykernel_21149/721208264.py:7: FutureWarning: Unlike other reduction functions (e.g. `skew`, `kurtosis`), the default behavior of `mode` typically preserves the axis it acts along. In SciPy 1.11.0, this behavior will change: the default value of `keepdims` will become False, the `axis` over which the statistic is taken will be eliminated, and the value None will no longer be accepted. Set `keepdims` to True or False to avoid this warning.\n",
            "  ys.append(scipy.stats.mode(labels)[0][0])\n"
          ]
        }
      ],
      "source": [
        "TIME_STEPS = 20\n",
        "STEP = 20\n",
        "\n",
        "X_train, y_train = create_dataset(\n",
        "    dataframe[['x', 'y', 'z']],\n",
        "    dataframe.tac,\n",
        "    TIME_STEPS,\n",
        "    STEP\n",
        ")\n",
        "\n",
        "\n",
        "X_test, y_test = create_dataset(\n",
        "    test_dataframe[['x', 'y', 'z']],\n",
        "    test_dataframe.tac,\n",
        "    TIME_STEPS,\n",
        "    STEP\n",
        ")"
      ]
    },
    {
      "cell_type": "code",
      "execution_count": 9,
      "metadata": {
        "colab": {
          "base_uri": "https://localhost:8080/"
        },
        "id": "Lj9rnCEZH68R",
        "outputId": "52ab8fc0-ee72-426c-f3c4-825057c75e4f"
      },
      "outputs": [
        {
          "data": {
            "text/plain": [
              "array([[ 0.0045, -0.0085, -0.0069],\n",
              "       [ 0.0045, -0.0085, -0.0069],\n",
              "       [ 0.0045, -0.0085, -0.0069],\n",
              "       [ 0.0003, -0.0001,  0.0038],\n",
              "       [ 0.0003, -0.0001,  0.0038],\n",
              "       [ 0.0003, -0.0001,  0.0038],\n",
              "       [ 0.0003, -0.0001,  0.0038],\n",
              "       [ 0.0045, -0.0085, -0.0069],\n",
              "       [ 0.0003, -0.0001,  0.0038],\n",
              "       [ 0.0045, -0.0085, -0.0069],\n",
              "       [ 0.0045, -0.0085, -0.0069],\n",
              "       [ 0.0045, -0.0085, -0.0069],\n",
              "       [ 0.0003, -0.0001,  0.0038],\n",
              "       [ 0.0045, -0.0085, -0.0069],\n",
              "       [ 0.0003, -0.0001,  0.0038],\n",
              "       [ 0.0003, -0.0001,  0.0038],\n",
              "       [ 0.0003, -0.0001,  0.0038],\n",
              "       [ 0.0003, -0.0001,  0.0038],\n",
              "       [ 0.0003, -0.0001,  0.0038],\n",
              "       [ 0.0003, -0.0001,  0.0038]])"
            ]
          },
          "execution_count": 9,
          "metadata": {},
          "output_type": "execute_result"
        }
      ],
      "source": [
        "X_train[0]"
      ]
    },
    {
      "cell_type": "code",
      "execution_count": 10,
      "metadata": {
        "colab": {
          "base_uri": "https://localhost:8080/"
        },
        "id": "tGnG5harH_gz",
        "outputId": "072bdc76-e82e-4a94-8c7e-db456566f713"
      },
      "outputs": [
        {
          "data": {
            "text/plain": [
              "array([[-0.0015, -0.0003,  0.0196],\n",
              "       [ 0.0091,  0.0017,  0.0164],\n",
              "       [ 0.0088,  0.0039,  0.0119],\n",
              "       [-0.0015, -0.0003,  0.0196],\n",
              "       [ 0.001 ,  0.0096,  0.0221],\n",
              "       [-0.0094,  0.0147,  0.0186],\n",
              "       [ 0.0069,  0.0062,  0.0167],\n",
              "       [ 0.0088, -0.0004,  0.0177],\n",
              "       [ 0.0091,  0.0017,  0.0164],\n",
              "       [ 0.0091,  0.0017,  0.0164],\n",
              "       [-0.0015, -0.0003,  0.0196],\n",
              "       [ 0.001 ,  0.0096,  0.0221],\n",
              "       [ 0.0088,  0.0039,  0.0119],\n",
              "       [-0.0094,  0.0147,  0.0186],\n",
              "       [ 0.0088, -0.0004,  0.0177],\n",
              "       [ 0.001 ,  0.0096,  0.0221],\n",
              "       [-0.0001,  0.0126,  0.0168],\n",
              "       [ 0.0088, -0.0004,  0.0177],\n",
              "       [ 0.0088, -0.0004,  0.0177],\n",
              "       [ 0.0088,  0.0039,  0.0119]])"
            ]
          },
          "execution_count": 10,
          "metadata": {},
          "output_type": "execute_result"
        }
      ],
      "source": [
        "X_test[0]"
      ]
    },
    {
      "cell_type": "code",
      "execution_count": 11,
      "metadata": {
        "colab": {
          "base_uri": "https://localhost:8080/"
        },
        "id": "ZwNOpZkbdKdd",
        "outputId": "7d9b8aad-66a1-492b-e522-2c373705ed7e"
      },
      "outputs": [
        {
          "data": {
            "text/plain": [
              "(11229, 20, 3)"
            ]
          },
          "execution_count": 11,
          "metadata": {},
          "output_type": "execute_result"
        }
      ],
      "source": [
        "X_test.shape"
      ]
    },
    {
      "cell_type": "code",
      "execution_count": 12,
      "metadata": {
        "colab": {
          "base_uri": "https://localhost:8080/"
        },
        "id": "XQ_bwik2KhJr",
        "outputId": "84b15627-fcc4-4f2d-f25c-58119113c7de"
      },
      "outputs": [
        {
          "name": "stderr",
          "output_type": "stream",
          "text": [
            "/Users/sarah_prakriti_peters/miniconda3/envs/DL/lib/python3.10/site-packages/sklearn/preprocessing/_encoders.py:868: FutureWarning: `sparse` was renamed to `sparse_output` in version 1.2 and will be removed in 1.4. `sparse_output` is ignored unless you leave `sparse` to its default value.\n",
            "  warnings.warn(\n"
          ]
        }
      ],
      "source": [
        "enc = OneHotEncoder(handle_unknown='ignore', sparse=False)\n",
        "\n",
        "enc = enc.fit(y_train)\n",
        "\n",
        "y_train = enc.transform(y_train)\n",
        "y_test = enc.transform(y_test)"
      ]
    },
    {
      "cell_type": "code",
      "execution_count": 45,
      "metadata": {
        "id": "FUIcs4DlB6vw"
      },
      "outputs": [],
      "source": [
        "model = keras.Sequential()\n",
        "model.add(\n",
        "    keras.layers.Bidirectional(\n",
        "      keras.layers.LSTM(\n",
        "          units=256,\n",
        "          input_shape=[X_train.shape[1], X_train.shape[2]]\n",
        "      )\n",
        "    )\n",
        ")\n",
        "model.add(keras.layers.Dropout(rate=0.5))\n",
        "model.add(keras.layers.Dense(units=128, activation='relu'))\n",
        "model.add(keras.layers.Dense(y_train.shape[1], activation='sigmoid'))\n",
        "\n",
        "model.compile(\n",
        "  loss='binary_crossentropy',\n",
        "  optimizer='adam',\n",
        "  metrics=['acc']\n",
        ")\n"
      ]
    },
    {
      "cell_type": "code",
      "execution_count": 46,
      "metadata": {
        "colab": {
          "base_uri": "https://localhost:8080/"
        },
        "id": "RGnBf1NT_8Jt",
        "outputId": "c861dfbd-2086-462f-b8ea-04840390a6fc"
      },
      "outputs": [
        {
          "name": "stdout",
          "output_type": "stream",
          "text": [
            "Epoch 1/20\n",
            "481/481 [==============================] - 17s 28ms/step - loss: 0.4291 - acc: 0.8883 - val_loss: 0.0760 - val_acc: 1.0000\n",
            "Epoch 2/20\n",
            "481/481 [==============================] - 13s 27ms/step - loss: 0.2275 - acc: 0.8825 - val_loss: 1.7419e-08 - val_acc: 1.0000\n",
            "Epoch 3/20\n",
            "481/481 [==============================] - 13s 27ms/step - loss: 0.3955 - acc: 0.9126 - val_loss: 0.9162 - val_acc: 0.0000e+00\n",
            "Epoch 4/20\n",
            "481/481 [==============================] - 11s 24ms/step - loss: 0.3324 - acc: 0.8888 - val_loss: 1.0178 - val_acc: 0.0000e+00\n",
            "Epoch 5/20\n",
            "481/481 [==============================] - 12s 26ms/step - loss: 0.3278 - acc: 0.8639 - val_loss: 1.7327 - val_acc: 0.0000e+00\n",
            "Epoch 6/20\n",
            "481/481 [==============================] - 10s 22ms/step - loss: 0.2405 - acc: 0.9201 - val_loss: 0.3571 - val_acc: 1.0000\n",
            "Epoch 7/20\n",
            "481/481 [==============================] - 11s 23ms/step - loss: 0.2251 - acc: 0.9127 - val_loss: 0.7641 - val_acc: 0.0064\n",
            "Epoch 8/20\n",
            "481/481 [==============================] - 14s 28ms/step - loss: 0.2272 - acc: 0.9250 - val_loss: 6.0501e-10 - val_acc: 1.0000\n",
            "Epoch 9/20\n",
            "481/481 [==============================] - 11s 22ms/step - loss: 0.2680 - acc: 0.9137 - val_loss: 0.5572 - val_acc: 0.9936\n",
            "Epoch 10/20\n",
            "481/481 [==============================] - 13s 28ms/step - loss: 0.2165 - acc: 0.9205 - val_loss: 0.5780 - val_acc: 1.0000\n",
            "Epoch 11/20\n",
            "481/481 [==============================] - 11s 23ms/step - loss: 0.1571 - acc: 0.9583 - val_loss: 0.3858 - val_acc: 1.0000\n",
            "Epoch 12/20\n",
            "481/481 [==============================] - 12s 25ms/step - loss: 0.1666 - acc: 0.9372 - val_loss: 0.6368 - val_acc: 0.8782\n",
            "Epoch 13/20\n",
            "481/481 [==============================] - 13s 26ms/step - loss: 0.2481 - acc: 0.8990 - val_loss: 0.6493 - val_acc: 0.9936\n",
            "Epoch 14/20\n",
            "481/481 [==============================] - 12s 25ms/step - loss: 0.2528 - acc: 0.8553 - val_loss: 0.6850 - val_acc: 0.9936\n",
            "Epoch 15/20\n",
            "481/481 [==============================] - 13s 26ms/step - loss: 0.3370 - acc: 0.8508 - val_loss: 0.1177 - val_acc: 1.0000\n",
            "Epoch 16/20\n",
            "481/481 [==============================] - 11s 23ms/step - loss: 0.2769 - acc: 0.9080 - val_loss: 1.0338 - val_acc: 0.0000e+00\n",
            "Epoch 17/20\n",
            "481/481 [==============================] - 13s 27ms/step - loss: 0.2067 - acc: 0.9182 - val_loss: 0.4228 - val_acc: 1.0000\n",
            "Epoch 18/20\n",
            "481/481 [==============================] - 12s 26ms/step - loss: 0.2289 - acc: 0.9074 - val_loss: 0.4734 - val_acc: 1.0000\n",
            "Epoch 19/20\n",
            "481/481 [==============================] - 12s 25ms/step - loss: 0.3233 - acc: 0.9014 - val_loss: 1.2135 - val_acc: 0.0000e+00\n",
            "Epoch 20/20\n",
            "481/481 [==============================] - 13s 27ms/step - loss: 0.3455 - acc: 0.8677 - val_loss: 2.6363 - val_acc: 0.0000e+00\n"
          ]
        }
      ],
      "source": [
        "history = model.fit(\n",
        "    X_train, y_train,\n",
        "    epochs=20,\n",
        "    batch_size=32, \n",
        "    validation_split=0.01,\n",
        "    shuffle=False) "
      ]
    },
    {
      "cell_type": "code",
      "execution_count": 15,
      "metadata": {
        "colab": {
          "base_uri": "https://localhost:8080/"
        },
        "id": "aQHHD49BjFtu",
        "outputId": "bfd8ebbb-75d4-4005-d081-9dbc97db0710"
      },
      "outputs": [
        {
          "data": {
            "text/plain": [
              "(pid     63900\n",
              " x       63900\n",
              " y       63900\n",
              " z       63900\n",
              " time    63900\n",
              " tac     63900\n",
              " dtype: int64,\n",
              " pid     160700\n",
              " x       160700\n",
              " y       160700\n",
              " z       160700\n",
              " time    160700\n",
              " tac     160700\n",
              " dtype: int64)"
            ]
          },
          "execution_count": 15,
          "metadata": {},
          "output_type": "execute_result"
        }
      ],
      "source": [
        "test_dataframe[test_dataframe['tac']==1].count(), test_dataframe[test_dataframe['tac']==0].count()"
      ]
    },
    {
      "cell_type": "code",
      "execution_count": 16,
      "metadata": {
        "colab": {
          "base_uri": "https://localhost:8080/"
        },
        "id": "AmwivqA-ezWf",
        "outputId": "54e7f9fb-4421-40a7-ae4b-946569dcc020"
      },
      "outputs": [
        {
          "data": {
            "text/plain": [
              "array([[-0.0015, -0.0003,  0.0196],\n",
              "       [ 0.0091,  0.0017,  0.0164],\n",
              "       [ 0.0088,  0.0039,  0.0119],\n",
              "       [-0.0015, -0.0003,  0.0196],\n",
              "       [ 0.001 ,  0.0096,  0.0221],\n",
              "       [-0.0094,  0.0147,  0.0186],\n",
              "       [ 0.0069,  0.0062,  0.0167],\n",
              "       [ 0.0088, -0.0004,  0.0177],\n",
              "       [ 0.0091,  0.0017,  0.0164],\n",
              "       [ 0.0091,  0.0017,  0.0164],\n",
              "       [-0.0015, -0.0003,  0.0196],\n",
              "       [ 0.001 ,  0.0096,  0.0221],\n",
              "       [ 0.0088,  0.0039,  0.0119],\n",
              "       [-0.0094,  0.0147,  0.0186],\n",
              "       [ 0.0088, -0.0004,  0.0177],\n",
              "       [ 0.001 ,  0.0096,  0.0221],\n",
              "       [-0.0001,  0.0126,  0.0168],\n",
              "       [ 0.0088, -0.0004,  0.0177],\n",
              "       [ 0.0088, -0.0004,  0.0177],\n",
              "       [ 0.0088,  0.0039,  0.0119]])"
            ]
          },
          "execution_count": 16,
          "metadata": {},
          "output_type": "execute_result"
        }
      ],
      "source": [
        "X_test[0]"
      ]
    },
    {
      "cell_type": "code",
      "execution_count": 17,
      "metadata": {
        "colab": {
          "base_uri": "https://localhost:8080/"
        },
        "id": "yeT3THOyNLRq",
        "outputId": "2d9e8153-a841-4706-9c55-daabcfe4dd4b"
      },
      "outputs": [
        {
          "name": "stdout",
          "output_type": "stream",
          "text": [
            "351/351 [==============================] - 3s 9ms/step - loss: 0.6338 - acc: 0.7155\n"
          ]
        },
        {
          "data": {
            "text/plain": [
              "[0.6337936520576477, 0.7154688835144043]"
            ]
          },
          "execution_count": 17,
          "metadata": {},
          "output_type": "execute_result"
        }
      ],
      "source": [
        "model.evaluate(X_test, y_test)"
      ]
    },
    {
      "cell_type": "code",
      "execution_count": 18,
      "metadata": {
        "colab": {
          "base_uri": "https://localhost:8080/"
        },
        "id": "FRni1Nirin2l",
        "outputId": "64a476f1-98a8-448c-fd2d-1efdddbc75e9"
      },
      "outputs": [
        {
          "data": {
            "text/plain": [
              "(pid     46140\n",
              " x       46140\n",
              " y       46140\n",
              " z       46140\n",
              " time    46140\n",
              " tac     46140\n",
              " dtype: int64,\n",
              " pid     264720\n",
              " x       264720\n",
              " y       264720\n",
              " z       264720\n",
              " time    264720\n",
              " tac     264720\n",
              " dtype: int64)"
            ]
          },
          "execution_count": 18,
          "metadata": {},
          "output_type": "execute_result"
        }
      ],
      "source": [
        "dataframe[dataframe['tac']==1].count(), dataframe[dataframe['tac']==0].count(), "
      ]
    },
    {
      "cell_type": "code",
      "execution_count": 19,
      "metadata": {
        "colab": {
          "base_uri": "https://localhost:8080/"
        },
        "id": "2p2QH9uNjA2o",
        "outputId": "36110e0d-c773-4fce-aa10-76168f839786"
      },
      "outputs": [
        {
          "data": {
            "text/plain": [
              "(310860, 6)"
            ]
          },
          "execution_count": 19,
          "metadata": {},
          "output_type": "execute_result"
        }
      ],
      "source": [
        "dataframe.shape"
      ]
    },
    {
      "cell_type": "code",
      "execution_count": 20,
      "metadata": {
        "colab": {
          "base_uri": "https://localhost:8080/"
        },
        "id": "oYy34DGKhjIN",
        "outputId": "1f4624fb-2408-4524-ad01-3b2ccf11ead7"
      },
      "outputs": [
        {
          "data": {
            "text/plain": [
              "False"
            ]
          },
          "execution_count": 20,
          "metadata": {},
          "output_type": "execute_result"
        }
      ],
      "source": [
        "# test = np.squeeze(y_test)\n",
        "np.where(np.squeeze(y_train))==1"
      ]
    },
    {
      "cell_type": "code",
      "execution_count": 22,
      "metadata": {
        "colab": {
          "base_uri": "https://localhost:8080/",
          "height": 164
        },
        "id": "kGUHvayDiE5U",
        "outputId": "e8ca53b2-8b34-4647-a752-c0ba0e720539"
      },
      "outputs": [],
      "source": [
        "# len(np.where(test == 1))"
      ]
    },
    {
      "cell_type": "code",
      "execution_count": 23,
      "metadata": {
        "id": "tjJzKg5bNpnK"
      },
      "outputs": [
        {
          "data": {
            "text/plain": [
              "array([[-0.0015, -0.0003,  0.0196],\n",
              "       [ 0.0091,  0.0017,  0.0164],\n",
              "       [ 0.0088,  0.0039,  0.0119],\n",
              "       [-0.0015, -0.0003,  0.0196],\n",
              "       [ 0.001 ,  0.0096,  0.0221],\n",
              "       [-0.0094,  0.0147,  0.0186],\n",
              "       [ 0.0069,  0.0062,  0.0167],\n",
              "       [ 0.0088, -0.0004,  0.0177],\n",
              "       [ 0.0091,  0.0017,  0.0164],\n",
              "       [ 0.0091,  0.0017,  0.0164],\n",
              "       [-0.0015, -0.0003,  0.0196],\n",
              "       [ 0.001 ,  0.0096,  0.0221],\n",
              "       [ 0.0088,  0.0039,  0.0119],\n",
              "       [-0.0094,  0.0147,  0.0186],\n",
              "       [ 0.0088, -0.0004,  0.0177],\n",
              "       [ 0.001 ,  0.0096,  0.0221],\n",
              "       [-0.0001,  0.0126,  0.0168],\n",
              "       [ 0.0088, -0.0004,  0.0177],\n",
              "       [ 0.0088, -0.0004,  0.0177],\n",
              "       [ 0.0088,  0.0039,  0.0119]])"
            ]
          },
          "execution_count": 23,
          "metadata": {},
          "output_type": "execute_result"
        }
      ],
      "source": [
        "X_test[0]"
      ]
    },
    {
      "cell_type": "code",
      "execution_count": 24,
      "metadata": {
        "id": "eUg7ksGgP5Iz"
      },
      "outputs": [
        {
          "data": {
            "text/plain": [
              "array([[ 0.0045, -0.0085, -0.0069],\n",
              "       [ 0.0045, -0.0085, -0.0069],\n",
              "       [ 0.0045, -0.0085, -0.0069],\n",
              "       [ 0.0003, -0.0001,  0.0038],\n",
              "       [ 0.0003, -0.0001,  0.0038],\n",
              "       [ 0.0003, -0.0001,  0.0038],\n",
              "       [ 0.0003, -0.0001,  0.0038],\n",
              "       [ 0.0045, -0.0085, -0.0069],\n",
              "       [ 0.0003, -0.0001,  0.0038],\n",
              "       [ 0.0045, -0.0085, -0.0069],\n",
              "       [ 0.0045, -0.0085, -0.0069],\n",
              "       [ 0.0045, -0.0085, -0.0069],\n",
              "       [ 0.0003, -0.0001,  0.0038],\n",
              "       [ 0.0045, -0.0085, -0.0069],\n",
              "       [ 0.0003, -0.0001,  0.0038],\n",
              "       [ 0.0003, -0.0001,  0.0038],\n",
              "       [ 0.0003, -0.0001,  0.0038],\n",
              "       [ 0.0003, -0.0001,  0.0038],\n",
              "       [ 0.0003, -0.0001,  0.0038],\n",
              "       [ 0.0003, -0.0001,  0.0038]])"
            ]
          },
          "execution_count": 24,
          "metadata": {},
          "output_type": "execute_result"
        }
      ],
      "source": [
        "X_train[0]"
      ]
    },
    {
      "cell_type": "code",
      "execution_count": null,
      "metadata": {
        "colab": {
          "base_uri": "https://localhost:8080/"
        },
        "id": "xEsBKL8OaHZ4",
        "outputId": "de7d8a53-f6ac-4f2c-9490-75fb7c3598e9"
      },
      "outputs": [
        {
          "data": {
            "text/plain": [
              "(26763, 8)"
            ]
          },
          "execution_count": 111,
          "metadata": {},
          "output_type": "execute_result"
        }
      ],
      "source": [
        "# y_train.shape"
      ]
    },
    {
      "cell_type": "code",
      "execution_count": null,
      "metadata": {
        "id": "DB2LN5fRYs4e"
      },
      "outputs": [],
      "source": [
        "# model.save(\"bidirectional_lstm.h5\")"
      ]
    },
    {
      "cell_type": "code",
      "execution_count": 61,
      "metadata": {
        "colab": {
          "base_uri": "https://localhost:8080/"
        },
        "id": "qumICwfGZZUq",
        "outputId": "9292ed95-db0b-410b-9c23-759dd5fcabe7"
      },
      "outputs": [
        {
          "name": "stdout",
          "output_type": "stream",
          "text": [
            "Epoch 1/20\n",
            "481/481 [==============================] - 17s 28ms/step - loss: 0.7527 - acc: 0.9820 - val_loss: 2.3289e-04 - val_acc: 1.0000\n",
            "Epoch 2/20\n",
            "481/481 [==============================] - 10s 21ms/step - loss: 0.8996 - acc: 0.9541 - val_loss: 0.0026 - val_acc: 1.0000\n",
            "Epoch 3/20\n",
            "481/481 [==============================] - 13s 28ms/step - loss: 0.4427 - acc: 0.8460 - val_loss: 2.3683 - val_acc: 0.0000e+00\n",
            "Epoch 4/20\n",
            "481/481 [==============================] - 11s 23ms/step - loss: 0.4126 - acc: 0.8603 - val_loss: 2.4487 - val_acc: 0.0000e+00\n",
            "Epoch 5/20\n",
            "481/481 [==============================] - 10s 21ms/step - loss: 0.4163 - acc: 0.8603 - val_loss: 2.4465 - val_acc: 0.0000e+00\n",
            "Epoch 6/20\n",
            "481/481 [==============================] - 12s 26ms/step - loss: 0.4167 - acc: 0.8603 - val_loss: 2.4391 - val_acc: 0.0000e+00\n",
            "Epoch 7/20\n",
            "481/481 [==============================] - 10s 21ms/step - loss: 0.4167 - acc: 0.8603 - val_loss: 2.4339 - val_acc: 0.0000e+00\n",
            "Epoch 8/20\n",
            "481/481 [==============================] - 11s 23ms/step - loss: 0.4166 - acc: 0.8603 - val_loss: 2.4307 - val_acc: 0.0000e+00\n",
            "Epoch 9/20\n",
            "481/481 [==============================] - 12s 24ms/step - loss: 0.6623 - acc: 0.8623 - val_loss: 1.0069 - val_acc: 0.0000e+00\n",
            "Epoch 10/20\n",
            "481/481 [==============================] - 10s 21ms/step - loss: 0.6641 - acc: 0.8710 - val_loss: 0.0011 - val_acc: 1.0000\n",
            "Epoch 11/20\n",
            "481/481 [==============================] - 13s 26ms/step - loss: 0.7354 - acc: 0.8625 - val_loss: 0.5357 - val_acc: 1.0000\n",
            "Epoch 12/20\n",
            "481/481 [==============================] - 12s 26ms/step - loss: 0.6726 - acc: 0.9133 - val_loss: 0.3746 - val_acc: 1.0000\n",
            "Epoch 13/20\n",
            "481/481 [==============================] - 28s 57ms/step - loss: 1.0764 - acc: 0.8064 - val_loss: 0.8952 - val_acc: 0.0000e+00\n",
            "Epoch 14/20\n",
            "481/481 [==============================] - 11s 23ms/step - loss: 0.4050 - acc: 0.8321 - val_loss: 2.2634 - val_acc: 0.0000e+00\n",
            "Epoch 15/20\n",
            "481/481 [==============================] - 13s 27ms/step - loss: 0.4106 - acc: 0.8603 - val_loss: 2.4115 - val_acc: 0.0000e+00\n",
            "Epoch 16/20\n",
            "481/481 [==============================] - 13s 27ms/step - loss: 0.4156 - acc: 0.8603 - val_loss: 2.4309 - val_acc: 0.0000e+00\n",
            "Epoch 17/20\n",
            "481/481 [==============================] - 12s 25ms/step - loss: 0.4165 - acc: 0.8603 - val_loss: 2.4314 - val_acc: 0.0000e+00\n",
            "Epoch 18/20\n",
            "481/481 [==============================] - 14s 28ms/step - loss: 0.4166 - acc: 0.8603 - val_loss: 2.4297 - val_acc: 0.0000e+00\n",
            "Epoch 19/20\n",
            "481/481 [==============================] - 16s 33ms/step - loss: 0.4166 - acc: 0.8603 - val_loss: 2.4283 - val_acc: 0.0000e+00\n",
            "Epoch 20/20\n",
            "481/481 [==============================] - 15s 32ms/step - loss: 0.4165 - acc: 0.8603 - val_loss: 2.4273 - val_acc: 0.0000e+00\n"
          ]
        }
      ],
      "source": [
        "model = keras.Sequential()\n",
        "model.add(\n",
        "    keras.layers.Bidirectional(\n",
        "      keras.layers.LSTM(\n",
        "          units=256,\n",
        "          input_shape=[X_train.shape[1], X_train.shape[2]]\n",
        "      )\n",
        "    )\n",
        ")\n",
        "model.add(keras.layers.Dropout(rate=0.5))\n",
        "model.add(keras.layers.Dense(units=128, activation='relu'))\n",
        "model.add(keras.layers.Dense(y_train.shape[1], activation='sigmoid'))\n",
        "\n",
        "model.compile(\n",
        "  loss='binary_crossentropy',\n",
        "  optimizer=keras.optimizers.Adam(0.01),\n",
        "  metrics=['acc']\n",
        ")\n",
        "\n",
        "\n",
        "history = model.fit(\n",
        "    X_train, y_train,\n",
        "    epochs=20,\n",
        "    batch_size=32, \n",
        "    validation_split=0.01,\n",
        "    shuffle=False) \n"
      ]
    },
    {
      "cell_type": "code",
      "execution_count": 62,
      "metadata": {},
      "outputs": [
        {
          "name": "stdout",
          "output_type": "stream",
          "text": [
            "351/351 [==============================] - 3s 9ms/step - loss: 0.7566 - acc: 0.7156\n"
          ]
        },
        {
          "data": {
            "text/plain": [
              "[0.7565633058547974, 0.7155579328536987]"
            ]
          },
          "execution_count": 62,
          "metadata": {},
          "output_type": "execute_result"
        }
      ],
      "source": [
        "model.evaluate(X_test, y_test)"
      ]
    },
    {
      "cell_type": "code",
      "execution_count": null,
      "metadata": {
        "colab": {
          "base_uri": "https://localhost:8080/"
        },
        "id": "I0aOkUjtaBj5",
        "outputId": "92dc6c8f-b6e9-497c-ce22-49b7b7ec44a9"
      },
      "outputs": [
        {
          "data": {
            "text/plain": [
              "(30725, 200, 3)"
            ]
          },
          "execution_count": 108,
          "metadata": {},
          "output_type": "execute_result"
        }
      ],
      "source": [
        "X_test.shape"
      ]
    },
    {
      "cell_type": "code",
      "execution_count": null,
      "metadata": {
        "colab": {
          "base_uri": "https://localhost:8080/"
        },
        "id": "mQWBxIRAZccd",
        "outputId": "76d33247-a901-4cb7-b6c2-5362bb57610c"
      },
      "outputs": [
        {
          "data": {
            "text/plain": [
              "(30725, 200, 3)"
            ]
          },
          "execution_count": 103,
          "metadata": {},
          "output_type": "execute_result"
        }
      ],
      "source": [
        "X_test.shape"
      ]
    },
    {
      "cell_type": "code",
      "execution_count": null,
      "metadata": {
        "colab": {
          "base_uri": "https://localhost:8080/",
          "height": 204
        },
        "id": "wGqzwyOkZuSR",
        "outputId": "35c4ac03-3470-4c9b-b479-ddb985d25924"
      },
      "outputs": [
        {
          "data": {
            "text/html": [
              "\n",
              "  <div id=\"df-b7d6f7b1-3aaf-4f6d-82de-1a8a175ca102\">\n",
              "    <div class=\"colab-df-container\">\n",
              "      <div>\n",
              "<style scoped>\n",
              "    .dataframe tbody tr th:only-of-type {\n",
              "        vertical-align: middle;\n",
              "    }\n",
              "\n",
              "    .dataframe tbody tr th {\n",
              "        vertical-align: top;\n",
              "    }\n",
              "\n",
              "    .dataframe thead th {\n",
              "        text-align: right;\n",
              "    }\n",
              "</style>\n",
              "<table border=\"1\" class=\"dataframe\">\n",
              "  <thead>\n",
              "    <tr style=\"text-align: right;\">\n",
              "      <th></th>\n",
              "      <th>pid</th>\n",
              "      <th>x</th>\n",
              "      <th>y</th>\n",
              "      <th>z</th>\n",
              "      <th>time</th>\n",
              "      <th>tac</th>\n",
              "    </tr>\n",
              "  </thead>\n",
              "  <tbody>\n",
              "    <tr>\n",
              "      <th>47150</th>\n",
              "      <td>BK7610</td>\n",
              "      <td>0.1016</td>\n",
              "      <td>-0.0145</td>\n",
              "      <td>-0.0042</td>\n",
              "      <td>1493735870</td>\n",
              "      <td>0</td>\n",
              "    </tr>\n",
              "    <tr>\n",
              "      <th>47144</th>\n",
              "      <td>BK7610</td>\n",
              "      <td>0.1076</td>\n",
              "      <td>0.0032</td>\n",
              "      <td>0.0276</td>\n",
              "      <td>1493735870</td>\n",
              "      <td>0</td>\n",
              "    </tr>\n",
              "    <tr>\n",
              "      <th>47148</th>\n",
              "      <td>BK7610</td>\n",
              "      <td>0.1085</td>\n",
              "      <td>-0.0282</td>\n",
              "      <td>-0.0035</td>\n",
              "      <td>1493735870</td>\n",
              "      <td>0</td>\n",
              "    </tr>\n",
              "    <tr>\n",
              "      <th>47160</th>\n",
              "      <td>BK7610</td>\n",
              "      <td>0.0918</td>\n",
              "      <td>-0.0076</td>\n",
              "      <td>-0.0020</td>\n",
              "      <td>1493735870</td>\n",
              "      <td>0</td>\n",
              "    </tr>\n",
              "    <tr>\n",
              "      <th>47140</th>\n",
              "      <td>BK7610</td>\n",
              "      <td>0.1443</td>\n",
              "      <td>-0.0474</td>\n",
              "      <td>-0.0447</td>\n",
              "      <td>1493735870</td>\n",
              "      <td>0</td>\n",
              "    </tr>\n",
              "  </tbody>\n",
              "</table>\n",
              "</div>\n",
              "      <button class=\"colab-df-convert\" onclick=\"convertToInteractive('df-b7d6f7b1-3aaf-4f6d-82de-1a8a175ca102')\"\n",
              "              title=\"Convert this dataframe to an interactive table.\"\n",
              "              style=\"display:none;\">\n",
              "        \n",
              "  <svg xmlns=\"http://www.w3.org/2000/svg\" height=\"24px\"viewBox=\"0 0 24 24\"\n",
              "       width=\"24px\">\n",
              "    <path d=\"M0 0h24v24H0V0z\" fill=\"none\"/>\n",
              "    <path d=\"M18.56 5.44l.94 2.06.94-2.06 2.06-.94-2.06-.94-.94-2.06-.94 2.06-2.06.94zm-11 1L8.5 8.5l.94-2.06 2.06-.94-2.06-.94L8.5 2.5l-.94 2.06-2.06.94zm10 10l.94 2.06.94-2.06 2.06-.94-2.06-.94-.94-2.06-.94 2.06-2.06.94z\"/><path d=\"M17.41 7.96l-1.37-1.37c-.4-.4-.92-.59-1.43-.59-.52 0-1.04.2-1.43.59L10.3 9.45l-7.72 7.72c-.78.78-.78 2.05 0 2.83L4 21.41c.39.39.9.59 1.41.59.51 0 1.02-.2 1.41-.59l7.78-7.78 2.81-2.81c.8-.78.8-2.07 0-2.86zM5.41 20L4 18.59l7.72-7.72 1.47 1.35L5.41 20z\"/>\n",
              "  </svg>\n",
              "      </button>\n",
              "      \n",
              "  <style>\n",
              "    .colab-df-container {\n",
              "      display:flex;\n",
              "      flex-wrap:wrap;\n",
              "      gap: 12px;\n",
              "    }\n",
              "\n",
              "    .colab-df-convert {\n",
              "      background-color: #E8F0FE;\n",
              "      border: none;\n",
              "      border-radius: 50%;\n",
              "      cursor: pointer;\n",
              "      display: none;\n",
              "      fill: #1967D2;\n",
              "      height: 32px;\n",
              "      padding: 0 0 0 0;\n",
              "      width: 32px;\n",
              "    }\n",
              "\n",
              "    .colab-df-convert:hover {\n",
              "      background-color: #E2EBFA;\n",
              "      box-shadow: 0px 1px 2px rgba(60, 64, 67, 0.3), 0px 1px 3px 1px rgba(60, 64, 67, 0.15);\n",
              "      fill: #174EA6;\n",
              "    }\n",
              "\n",
              "    [theme=dark] .colab-df-convert {\n",
              "      background-color: #3B4455;\n",
              "      fill: #D2E3FC;\n",
              "    }\n",
              "\n",
              "    [theme=dark] .colab-df-convert:hover {\n",
              "      background-color: #434B5C;\n",
              "      box-shadow: 0px 1px 3px 1px rgba(0, 0, 0, 0.15);\n",
              "      filter: drop-shadow(0px 1px 2px rgba(0, 0, 0, 0.3));\n",
              "      fill: #FFFFFF;\n",
              "    }\n",
              "  </style>\n",
              "\n",
              "      <script>\n",
              "        const buttonEl =\n",
              "          document.querySelector('#df-b7d6f7b1-3aaf-4f6d-82de-1a8a175ca102 button.colab-df-convert');\n",
              "        buttonEl.style.display =\n",
              "          google.colab.kernel.accessAllowed ? 'block' : 'none';\n",
              "\n",
              "        async function convertToInteractive(key) {\n",
              "          const element = document.querySelector('#df-b7d6f7b1-3aaf-4f6d-82de-1a8a175ca102');\n",
              "          const dataTable =\n",
              "            await google.colab.kernel.invokeFunction('convertToInteractive',\n",
              "                                                     [key], {});\n",
              "          if (!dataTable) return;\n",
              "\n",
              "          const docLinkHtml = 'Like what you see? Visit the ' +\n",
              "            '<a target=\"_blank\" href=https://colab.research.google.com/notebooks/data_table.ipynb>data table notebook</a>'\n",
              "            + ' to learn more about interactive tables.';\n",
              "          element.innerHTML = '';\n",
              "          dataTable['output_type'] = 'display_data';\n",
              "          await google.colab.output.renderOutput(dataTable, element);\n",
              "          const docLink = document.createElement('div');\n",
              "          docLink.innerHTML = docLinkHtml;\n",
              "          element.appendChild(docLink);\n",
              "        }\n",
              "      </script>\n",
              "    </div>\n",
              "  </div>\n",
              "  "
            ],
            "text/plain": [
              "          pid       x       y       z        time  tac\n",
              "47150  BK7610  0.1016 -0.0145 -0.0042  1493735870    0\n",
              "47144  BK7610  0.1076  0.0032  0.0276  1493735870    0\n",
              "47148  BK7610  0.1085 -0.0282 -0.0035  1493735870    0\n",
              "47160  BK7610  0.0918 -0.0076 -0.0020  1493735870    0\n",
              "47140  BK7610  0.1443 -0.0474 -0.0447  1493735870    0"
            ]
          },
          "execution_count": 109,
          "metadata": {},
          "output_type": "execute_result"
        }
      ],
      "source": [
        "test_dataframe.head()"
      ]
    },
    {
      "cell_type": "code",
      "execution_count": 25,
      "metadata": {
        "colab": {
          "base_uri": "https://localhost:8080/",
          "height": 395
        },
        "id": "Xv6suUS2Y2-g",
        "outputId": "e6148cf7-b8d1-44c9-93e0-06f642535d8d"
      },
      "outputs": [],
      "source": [
        "# enc = OneHotEncoder(handle_unknown='ignore', sparse=False)\n",
        "\n",
        "# enc = enc.fit(y_train)\n",
        "\n",
        "# y_train = enc.transform(y_train)\n",
        "# enc.transform(y_test)"
      ]
    },
    {
      "attachments": {},
      "cell_type": "markdown",
      "metadata": {},
      "source": [
        "## MLP Classifier"
      ]
    },
    {
      "cell_type": "code",
      "execution_count": 26,
      "metadata": {
        "id": "CZMZgyriZMsW"
      },
      "outputs": [],
      "source": [
        "from sklearn.neural_network import MLPClassifier\n",
        "from sklearn.metrics import accuracy_score\n",
        "clf = MLPClassifier(solver='adam', shuffle=True, random_state=1)"
      ]
    },
    {
      "cell_type": "code",
      "execution_count": 28,
      "metadata": {},
      "outputs": [
        {
          "data": {
            "text/plain": [
              "(15542, 20, 3)"
            ]
          },
          "execution_count": 28,
          "metadata": {},
          "output_type": "execute_result"
        }
      ],
      "source": [
        "X_train.shape"
      ]
    },
    {
      "cell_type": "code",
      "execution_count": 30,
      "metadata": {},
      "outputs": [
        {
          "name": "stderr",
          "output_type": "stream",
          "text": [
            "/Users/sarah_prakriti_peters/miniconda3/envs/DL/lib/python3.10/site-packages/sklearn/neural_network/_multilayer_perceptron.py:686: ConvergenceWarning: Stochastic Optimizer: Maximum iterations (200) reached and the optimization hasn't converged yet.\n",
            "  warnings.warn(\n"
          ]
        },
        {
          "data": {
            "text/plain": [
              "{'activation': 'relu',\n",
              " 'alpha': 0.0001,\n",
              " 'batch_size': 'auto',\n",
              " 'beta_1': 0.9,\n",
              " 'beta_2': 0.999,\n",
              " 'early_stopping': False,\n",
              " 'epsilon': 1e-08,\n",
              " 'hidden_layer_sizes': (100,),\n",
              " 'learning_rate': 'constant',\n",
              " 'learning_rate_init': 0.001,\n",
              " 'max_fun': 15000,\n",
              " 'max_iter': 200,\n",
              " 'momentum': 0.9,\n",
              " 'n_iter_no_change': 10,\n",
              " 'nesterovs_momentum': True,\n",
              " 'power_t': 0.5,\n",
              " 'random_state': 1,\n",
              " 'shuffle': True,\n",
              " 'solver': 'adam',\n",
              " 'tol': 0.0001,\n",
              " 'validation_fraction': 0.1,\n",
              " 'verbose': False,\n",
              " 'warm_start': False}"
            ]
          },
          "execution_count": 30,
          "metadata": {},
          "output_type": "execute_result"
        }
      ],
      "source": [
        "clf.fit(np.reshape(X_train, (15542, 60)), y_train)\n",
        "clf.get_params()"
      ]
    },
    {
      "cell_type": "code",
      "execution_count": 31,
      "metadata": {},
      "outputs": [
        {
          "data": {
            "text/plain": [
              "(11229, 20, 3)"
            ]
          },
          "execution_count": 31,
          "metadata": {},
          "output_type": "execute_result"
        }
      ],
      "source": [
        "X_test.shape"
      ]
    },
    {
      "cell_type": "code",
      "execution_count": 32,
      "metadata": {},
      "outputs": [
        {
          "name": "stdout",
          "output_type": "stream",
          "text": [
            "Accuracy  0.7000623385875857\n"
          ]
        }
      ],
      "source": [
        "print('Accuracy ', accuracy_score(y_test, clf.predict(np.reshape(X_test, (11229, 60)))))"
      ]
    },
    {
      "attachments": {},
      "cell_type": "markdown",
      "metadata": {},
      "source": [
        "## CNN "
      ]
    },
    {
      "cell_type": "code",
      "execution_count": null,
      "metadata": {},
      "outputs": [],
      "source": [
        "batch_size = 256\n",
        "epochs = 1000\n",
        "\n",
        "\n",
        "flatten = keras.layers.Flatten()\n",
        "conv_layer1 = keras.layers.Conv1D(filters = 64, kernel_size = 3, padding='SAME')\n",
        "conv_layer2 = keras.layers.Conv1D(filters = 64, kernel_size = 3, padding='SAME')\n",
        "dropout = keras.layers.Dropout(0.5)\n",
        "max_pooling = keras.layers.MaxPool1D(pool_size=2)\n",
        "fc_layer = keras.layers.Dense(units=128, activation = 'relu')\n",
        "fc_layer2 = keras.layers.Dense(units=1, activation = 'sigmoid')\n",
        "base_model = keras.Sequential([\n",
        "                                  conv_layer1,  \n",
        "                                  conv_layer2, \n",
        "                                  dropout, \n",
        "                                  max_pooling, \n",
        "                                  flatten, \n",
        "                                  fc_layer, \n",
        "                                  fc_layer2\n",
        "                                ])\n",
        "\n",
        "base_model.compile(loss='binary_crossenttropy', \n",
        "                   optimizer='adam',\n",
        "                   metrics=['acc']) "
      ]
    }
  ],
  "metadata": {
    "accelerator": "GPU",
    "colab": {
      "gpuType": "V100",
      "provenance": []
    },
    "gpuClass": "standard",
    "kernelspec": {
      "display_name": "Python 3",
      "name": "python3"
    },
    "language_info": {
      "codemirror_mode": {
        "name": "ipython",
        "version": 3
      },
      "file_extension": ".py",
      "mimetype": "text/x-python",
      "name": "python",
      "nbconvert_exporter": "python",
      "pygments_lexer": "ipython3",
      "version": "3.10.10"
    }
  },
  "nbformat": 4,
  "nbformat_minor": 0
}
